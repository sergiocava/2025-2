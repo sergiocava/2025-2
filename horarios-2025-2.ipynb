{
 "cells": [
  {
   "cell_type": "markdown",
   "id": "93d5cb15-2403-4abc-a346-e6352dbc0d21",
   "metadata": {},
   "source": [
    "---\n",
    "title: \"Horários do Curso de Engenharia de Materiais\"\n",
    "subtitle: \"Semestre 2025/2\"\n",
    "format:\n",
    "  html:\n",
    "    toc: false\n",
    "    toc-depth: 2\n",
    "    theme: cosmo\n",
    "    number-sections: false\n",
    "    page-layout: full\n",
    "    code-tools: false\n",
    "    echo: false\n",
    "    embed-resources: true\n",
    "jupyter: python3\n",
    "---\n",
    "\n",
    "<div style=\"display: flex; align-items: center; gap: 2em; margin-bottom: 1em;\">\n",
    "  <img src=\"https://jcconcursos.com.br/media/_versions/orgao/concurso-ufpel-72815_sm.jpg\" alt=\"Logotipo da UFPel\" style=\"height: 80px;\">\n",
    "  <img src=\"https://wp.ufpel.edu.br/engmateriais/files/2025/02/engmat.png\" alt=\"Logotipo do Curso de Engenharia de Materiais\" style=\"height: 80px;\">\n",
    "</div>\n",
    "\n",
    "**Universidade Federal de Pelotas (UFPel)**  \n",
    "**Centro de Desenvolvimento Tecnológico (CDTec)**  \n",
    "**Curso de Engenharia de Materiais**\n",
    "\n",
    "---\n",
    "\n",
    "**Organização:** Coordenação do Curso de Engenharia de Materiais  \n",
    "**Contato:** [secretariamateriaisufpel@gmail.com](mailto:secretariamateriaisufpel@gmail.com)  \n",
    "**Última atualização:** 21/10/2025\n"
   ]
  },
  {
   "cell_type": "code",
   "execution_count": 1,
   "id": "fdf8df2a-1f62-4cca-9824-0dd601d2bc21",
   "metadata": {},
   "outputs": [
    {
     "data": {
      "text/html": [
       "<h3 style=\"text-align: center; font-size: 1.5em; font-weight: bold;\">2º semestre</h3><table border=\"1\" cellpadding=\"5\" cellspacing=\"0\" style=\"border-collapse: collapse; text-align: center; width: 100%;\"><thead><tr><th>Horário</th><th>Segunda-feira</th><th>Terça-feira</th><th>Quarta-feira</th><th>Quinta-feira</th><th>Sexta-feira</th></tr></thead><tbody><tr><td>08:00-08:50</td><td>11100110 - Álgebra Linear e Geometria Analítica T2 (Prof. Fabrício - sala 445)<br>11100110 - Álgebra Linear e Geometria Analítica T4 (Prof. Rejane - sala 435)</td><td>11100058 - Cálculo 1 T1 (Prof. Andrea - sala Capão do Leão/P14-302)<br>11100058 - Cálculo 1 T5 (Prof. Christian - sala Anglo/429)</td><td>11100110 - Álgebra Linear e Geometria Analítica T2 (Prof. Fabrício - sala 445)<br>11100110 - Álgebra Linear e Geometria Analítica T4 (Prof. Rejane - sala 435)</td><td>11100058 - Cálculo 1 T1 (Prof. Andrea - sala Capão do Leão/P14-302)<br>11100058 - Cálculo 1 T5 (Prof. Christian - sala Anglo/429)</td><td>11100110 - Álgebra Linear e Geometria Analítica T2 (Prof. Fabrício - sala 445.0)<br>11100110 - Álgebra Linear e Geometria Analítica T4 (Prof. Rejane - sala 435.0)</td></tr><tr><td>08:50-09:40</td><td>11100110 - Álgebra Linear e Geometria Analítica T2 (Prof. Fabrício - sala 445)<br>11100110 - Álgebra Linear e Geometria Analítica T4 (Prof. Rejane - sala 435)</td><td>11100058 - Cálculo 1 T1 (Prof. Andrea - sala Capão do Leão/P14-302)<br>11100058 - Cálculo 1 T5 (Prof. Christian - sala Anglo/429)</td><td>11100110 - Álgebra Linear e Geometria Analítica T2 (Prof. Fabrício - sala 445)<br>11100110 - Álgebra Linear e Geometria Analítica T4 (Prof. Rejane - sala 435)</td><td>11100058 - Cálculo 1 T1 (Prof. Andrea - sala Capão do Leão/P14-302)<br>11100058 - Cálculo 1 T5 (Prof. Christian - sala Anglo/429)</td><td>11100110 - Álgebra Linear e Geometria Analítica T2 (Prof. Fabrício - sala 445.0)<br>11100110 - Álgebra Linear e Geometria Analítica T4 (Prof. Rejane - sala 435.0)</td></tr><tr><td>10:00-10:50</td><td>22000329 - Química Aplicada à Engenharia II M1 (Prof. Cristiane - sala 345)</td><td>11090032 - Física Básica I T3 (Prof. Pedro Jardim - sala Capão do Leão/P05-MM1)<br>11090032 - Física Básica I T9 (Prof. Javier Romero - sala 340)</td><td>22000329 - Química Aplicada à Engenharia II M1 (Prof. Cristiane - sala Lab)</td><td>11090032 - Física Básica I T3 (Prof. Pedro Jardim - sala Capão do Leão/P05-MM1)<br>11090032 - Física Básica I T9 (Prof. Javier Romero - sala 340)</td><td>22000361 - Laboratório de Materiais M1 (Prof. Neftali - sala Lab)</td></tr><tr><td>10:50-11:40</td><td>22000329 - Química Aplicada à Engenharia II M1 (Prof. Cristiane - sala 345)</td><td>11090032 - Física Básica I T3 (Prof. Pedro Jardim - sala Capão do Leão/P05-MM1)<br>11090032 - Física Básica I T9 (Prof. Javier Romero - sala 340)</td><td>22000329 - Química Aplicada à Engenharia II M1 (Prof. Cristiane - sala Lab)</td><td>11090032 - Física Básica I T3 (Prof. Pedro Jardim - sala Capão do Leão/P05-MM1)<br>11090032 - Física Básica I T9 (Prof. Javier Romero - sala 340)</td><td>22000361 - Laboratório de Materiais M1 (Prof. Neftali - sala Lab)</td></tr><tr><td>11:40-12:30</td><td></td><td></td><td></td><td></td><td>22000361 - Laboratório de Materiais M1 (Prof. Neftali - sala Lab)</td></tr></tbody></table>"
      ],
      "text/plain": [
       "<IPython.core.display.HTML object>"
      ]
     },
     "metadata": {},
     "output_type": "display_data"
    },
    {
     "data": {
      "text/html": [
       "<h3 style=\"text-align: center; font-size: 1.5em; font-weight: bold;\">4º semestre</h3><table border=\"1\" cellpadding=\"5\" cellspacing=\"0\" style=\"border-collapse: collapse; text-align: center; width: 100%;\"><thead><tr><th>Horário</th><th>Segunda-feira</th><th>Terça-feira</th><th>Quarta-feira</th><th>Quinta-feira</th><th>Sexta-feira</th></tr></thead><tbody><tr><td>08:00-08:50</td><td></td><td></td><td></td><td></td><td></td></tr><tr><td>08:50-09:40</td><td></td><td></td><td></td><td></td><td></td></tr><tr><td>10:00-10:50</td><td>22000078 - Empreendedorismo e Inovação Tecnológica T1 (Prof. Tiago - sala 347)</td><td></td><td></td><td></td><td>22000371 - Produção de Textos em Engenharia M1 (Prof. Sergio - sala 345)</td></tr><tr><td>10:50-11:40</td><td>22000078 - Empreendedorismo e Inovação Tecnológica T1 (Prof. Tiago - sala 347)</td><td></td><td></td><td></td><td>22000371 - Produção de Textos em Engenharia M1 (Prof. Sergio - sala 345)</td></tr><tr><td>11:40-12:30</td><td></td><td></td><td></td><td></td><td></td></tr><tr><td colspan=\"6\" style=\"background-color: #e0e0e0; font-weight: bold;\">Intervalo entre Turnos</td></tr><tr><td>13:30-14:20</td><td>22000365 - Resistência dos Materiais T1 (Prof. André - sala 345)</td><td>22000369 - Materiais Poliméricos I M1 (Prof. Amanda - sala 345)</td><td></td><td>22000370 - Materiais Metálicos I M1 (Prof. Alice - sala 345)</td><td>22000366 - Ciência dos Materiais II T1 (Prof. Substituto - sala 345)</td></tr><tr><td>14:20-15:10</td><td>22000365 - Resistência dos Materiais T1 (Prof. André - sala 345)</td><td>22000369 - Materiais Poliméricos I M1 (Prof. Amanda - sala 345)</td><td></td><td>22000370 - Materiais Metálicos I M1 (Prof. Alice - sala 345)</td><td>22000366 - Ciência dos Materiais II T1 (Prof. Substituto - sala 345)</td></tr><tr><td>15:10-16:00</td><td>22000365 - Resistência dos Materiais T1 (Prof. André - sala 345)</td><td>22000369 - Materiais Poliméricos I M1 (Prof. Amanda - sala 345)</td><td>22000367 - Termodinâmica II M1 (Prof. Mateus - sala 345)</td><td>22000370 - Materiais Metálicos I M1 (Prof. Alice - sala 345)</td><td>22000366 - Ciência dos Materiais II T1 (Prof. Substituto - sala 345)</td></tr><tr><td>16:00-16:50</td><td>22000365 - Resistência dos Materiais T1 (Prof. André - sala 345)</td><td>22000368 - Materiais Cerâmicos I T1 (Prof. Sergio - sala 345)</td><td>22000367 - Termodinâmica II M1 (Prof. Mateus - sala 345)</td><td>22000370 - Materiais Metálicos I M1 (Prof. Alice - sala 345)</td><td></td></tr><tr><td>17:10-18:00</td><td></td><td>22000368 - Materiais Cerâmicos I T1 (Prof. Sergio - sala 345)</td><td>22000367 - Termodinâmica II M1 (Prof. Mateus - sala 345)</td><td></td><td></td></tr><tr><td>18:00-18:50</td><td></td><td>22000368 - Materiais Cerâmicos I T1 (Prof. Sergio - sala 345)</td><td></td><td></td><td></td></tr></tbody></table>"
      ],
      "text/plain": [
       "<IPython.core.display.HTML object>"
      ]
     },
     "metadata": {},
     "output_type": "display_data"
    },
    {
     "data": {
      "text/html": [
       "<h3 style=\"text-align: center; font-size: 1.5em; font-weight: bold;\">6º semestre</h3><table border=\"1\" cellpadding=\"5\" cellspacing=\"0\" style=\"border-collapse: collapse; text-align: center; width: 100%;\"><thead><tr><th>Horário</th><th>Segunda-feira</th><th>Terça-feira</th><th>Quarta-feira</th><th>Quinta-feira</th><th>Sexta-feira</th></tr></thead><tbody><tr><td>08:00-08:50</td><td></td><td>22000378 - Degradação de Materiais M1 (Prof. Amanda/Tiago - sala 347)</td><td></td><td>22000377 - Reologia T1 (Prof. Fabiula - sala 345)</td><td>22000378 - Degradação de Materiais M1 (Prof. Amanda/Tiago - sala 347)</td></tr><tr><td>08:50-09:40</td><td></td><td>22000378 - Degradação de Materiais M1 (Prof. Amanda/Tiago - sala 347)</td><td></td><td>22000377 - Reologia T1 (Prof. Fabiula - sala 345)</td><td>22000378 - Degradação de Materiais M1 (Prof. Amanda/Tiago - sala 347)</td></tr><tr><td>10:00-10:50</td><td></td><td>22000379 - Propriedades Físicas dos Materiais T1 (Prof. Substituto - sala 345)</td><td></td><td>22000377 - Reologia T1 (Prof. Fabiula - sala 345)</td><td></td></tr><tr><td>10:50-11:40</td><td></td><td>22000379 - Propriedades Físicas dos Materiais T1 (Prof. Substituto - sala 345)</td><td></td><td>22000377 - Reologia T1 (Prof. Fabiula - sala 345)</td><td></td></tr><tr><td>11:40-12:30</td><td></td><td>22000379 - Propriedades Físicas dos Materiais T1 (Prof. Substituto - sala 345)</td><td></td><td></td><td></td></tr><tr><td colspan=\"6\" style=\"background-color: #e0e0e0; font-weight: bold;\">Intervalo entre Turnos</td></tr><tr><td>13:30-14:20</td><td>22000381 - Caracterização de Materiais M1 (Prof. Fernando - sala 347)</td><td></td><td></td><td></td><td></td></tr><tr><td>14:20-15:10</td><td>22000381 - Caracterização de Materiais M1 (Prof. Fernando - sala 347)</td><td></td><td></td><td></td><td></td></tr><tr><td>15:10-16:00</td><td>22000381 - Caracterização de Materiais M1 (Prof. Fernando - sala 347)</td><td></td><td></td><td></td><td></td></tr><tr><td>16:00-16:50</td><td>22000381 - Caracterização de Materiais M1 (Prof. Fernando - sala 347)</td><td></td><td></td><td></td><td></td></tr><tr><td>17:10-18:00</td><td></td><td></td><td></td><td></td><td></td></tr><tr><td>18:00-18:50</td><td></td><td></td><td></td><td></td><td></td></tr><tr><td colspan=\"6\" style=\"background-color: #e0e0e0; font-weight: bold;\">Intervalo entre Turnos</td></tr><tr><td>19:00-19:50</td><td></td><td></td><td></td><td>15000920 - Ciência, Tecnologia e Sociedade EAD2 (Prof. CEng - sala indefinida)</td><td></td></tr><tr><td>19:50-20:40</td><td></td><td></td><td></td><td>15000920 - Ciência, Tecnologia e Sociedade EAD2 (Prof. CEng - sala indefinida)</td><td></td></tr><tr><td>20:40-21:30</td><td></td><td></td><td></td><td>15000920 - Ciência, Tecnologia e Sociedade EAD2 (Prof. CEng - sala indefinida)</td><td></td></tr><tr><td>21:30-22:20</td><td></td><td></td><td></td><td></td><td></td></tr><tr><td>22:20-23:10</td><td></td><td></td><td></td><td></td><td></td></tr></tbody></table>"
      ],
      "text/plain": [
       "<IPython.core.display.HTML object>"
      ]
     },
     "metadata": {},
     "output_type": "display_data"
    },
    {
     "data": {
      "text/html": [
       "<h3 style=\"text-align: center; font-size: 1.5em; font-weight: bold;\">8º semestre</h3><table border=\"1\" cellpadding=\"5\" cellspacing=\"0\" style=\"border-collapse: collapse; text-align: center; width: 100%;\"><thead><tr><th>Horário</th><th>Segunda-feira</th><th>Terça-feira</th><th>Quarta-feira</th><th>Quinta-feira</th><th>Sexta-feira</th></tr></thead><tbody><tr><td>08:00-08:50</td><td></td><td>22000388 - Materiais Compósitos M1 (Prof. Amanda - sala 345)</td><td>22000388 - Materiais Compósitos M1 (Prof. Amanda - sala 345)</td><td></td><td>22000106 - Economia e Gestão T1 (Prof. Sergio - sala 345)</td></tr><tr><td>08:50-09:40</td><td></td><td>22000388 - Materiais Compósitos M1 (Prof. Amanda - sala 345)</td><td>22000388 - Materiais Compósitos M1 (Prof. Amanda - sala 345)</td><td></td><td>22000106 - Economia e Gestão T1 (Prof. Sergio - sala 345)</td></tr><tr><td>10:00-10:50</td><td>22000389 - Seleção de Materiais M1 (Prof. Substituto - sala 308)</td><td></td><td>22000390 - Biomateriais M1 (Prof. Tiago - sala 347)</td><td></td><td>22000391 - Reciclagem de Materiais M1 (Prof. Fabiula - sala 347)</td></tr><tr><td>10:50-11:40</td><td>22000389 - Seleção de Materiais M1 (Prof. Substituto - sala 308)</td><td></td><td>22000390 - Biomateriais M1 (Prof. Tiago - sala 347)</td><td></td><td>22000391 - Reciclagem de Materiais M1 (Prof. Fabiula - sala 347)</td></tr><tr><td>11:40-12:30</td><td>22000389 - Seleção de Materiais M1 (Prof. Substituto - sala 308)</td><td></td><td>22000390 - Biomateriais M1 (Prof. Tiago - sala 347)</td><td></td><td>22000391 - Reciclagem de Materiais M1 (Prof. Fabiula - sala 347)</td></tr></tbody></table>"
      ],
      "text/plain": [
       "<IPython.core.display.HTML object>"
      ]
     },
     "metadata": {},
     "output_type": "display_data"
    },
    {
     "data": {
      "text/html": [
       "<h3 style=\"text-align: center; font-size: 1.5em; font-weight: bold;\">Reofertas</h3><table border=\"1\" cellpadding=\"5\" cellspacing=\"0\" style=\"border-collapse: collapse; text-align: center; width: 100%;\"><thead><tr><th>Horário</th><th>Segunda-feira</th><th>Terça-feira</th><th>Quarta-feira</th><th>Quinta-feira</th><th>Sexta-feira</th></tr></thead><tbody><tr><td>08:00-08:50</td><td></td><td>11100059 - Cálculo 2 T2 (Prof. Camila - sala 445)</td><td></td><td>11100059 - Cálculo 2 T2 (Prof. Camila - sala 445)</td><td></td></tr><tr><td>08:50-09:40</td><td></td><td>11100059 - Cálculo 2 T2 (Prof. Camila - sala 445)</td><td></td><td>11100059 - Cálculo 2 T2 (Prof. Camila - sala 445)</td><td></td></tr><tr><td>10:00-10:50</td><td>11100060 - Cálculo 3 T1 (Prof. Rejane - sala 435)</td><td>11090033 - Física Básica II T4 (Prof. Francisco Villela - sala 435)</td><td>11100060 - Cálculo 3 T1 (Prof. Rejane - sala 435)</td><td>11090033 - Física Básica II T4 (Prof. Francisco Villela - sala 435)</td><td>11100060 - Cálculo 3 T1 (Prof. Rejane - sala 435.0)</td></tr><tr><td>10:50-11:40</td><td>11100060 - Cálculo 3 T1 (Prof. Rejane - sala 435)</td><td>11090033 - Física Básica II T4 (Prof. Francisco Villela - sala 435)</td><td>11100060 - Cálculo 3 T1 (Prof. Rejane - sala 435)</td><td>11090033 - Física Básica II T4 (Prof. Francisco Villela - sala 435)</td><td>11100060 - Cálculo 3 T1 (Prof. Rejane - sala 435.0)</td></tr><tr><td>11:40-12:30</td><td></td><td></td><td></td><td></td><td></td></tr><tr><td colspan=\"6\" style=\"background-color: #e0e0e0; font-weight: bold;\">Intervalo entre Turnos</td></tr><tr><td>13:30-14:20</td><td></td><td>22000294 - Algoritmos e Programação M3 (Prof. Computação - sala indefinida)<br>11090034 - Física Básica III T4 (Prof. Walas Oliveira - sala 445)</td><td>22000514 - Estatística Básica T1 (Prof. Clause - sala 110)<br>22000376 - Ergonomia e Segurança do Trabalho T1 (Prof. Luiz Eduardo - sala indefinida)</td><td>11090034 - Física Básica III T4 (Prof. Walas Oliveira - sala 445)</td><td>22000117 - Mecânica dos Fluidos M1 (Prof. Leonardo - sala 254)</td></tr><tr><td>14:20-15:10</td><td></td><td>22000294 - Algoritmos e Programação M3 (Prof. Computação - sala indefinida)<br>11090034 - Física Básica III T4 (Prof. Walas Oliveira - sala 445)</td><td>22000514 - Estatística Básica T1 (Prof. Clause - sala 110)<br>22000376 - Ergonomia e Segurança do Trabalho T1 (Prof. Luiz Eduardo - sala indefinida)</td><td>11090034 - Física Básica III T4 (Prof. Walas Oliveira - sala 445)</td><td>22000117 - Mecânica dos Fluidos M1 (Prof. Leonardo - sala 254)</td></tr><tr><td>15:10-16:00</td><td>22000294 - Algoritmos e Programação M3 (Prof. Computação - sala indefinida)</td><td>22000514 - Estatística Básica T1 (Prof. Clause - sala 110)</td><td></td><td></td><td>22000117 - Mecânica dos Fluidos M1 (Prof. Leonardo - sala 254)</td></tr><tr><td>16:00-16:50</td><td>22000294 - Algoritmos e Programação M3 (Prof. Computação - sala indefinida)</td><td>22000514 - Estatística Básica T1 (Prof. Clause - sala 110)</td><td></td><td></td><td>22000117 - Mecânica dos Fluidos M1 (Prof. Leonardo - sala 254)</td></tr><tr><td>17:10-18:00</td><td></td><td></td><td></td><td></td><td></td></tr><tr><td>18:00-18:50</td><td></td><td></td><td></td><td></td><td></td></tr></tbody></table>"
      ],
      "text/plain": [
       "<IPython.core.display.HTML object>"
      ]
     },
     "metadata": {},
     "output_type": "display_data"
    },
    {
     "data": {
      "text/html": [
       "<h3 style=\"text-align: center; font-size: 1.5em; font-weight: bold;\">Optativas</h3><table border=\"1\" cellpadding=\"5\" cellspacing=\"0\" style=\"border-collapse: collapse; text-align: center; width: 100%;\"><thead><tr><th>Horário</th><th>Segunda-feira</th><th>Terça-feira</th><th>Quarta-feira</th><th>Quinta-feira</th><th>Sexta-feira</th></tr></thead><tbody><tr><td>13:30-14:20</td><td></td><td></td><td></td><td>23000002 - Elastômeros T1 (Prof. Fabiula - sala 347)</td><td>22000400 - Tópicos Avançados em Materiais I M1 (Prof. André - sala 347)</td></tr><tr><td>14:20-15:10</td><td></td><td></td><td></td><td>23000002 - Elastômeros T1 (Prof. Fabiula - sala 347)</td><td>22000400 - Tópicos Avançados em Materiais I M1 (Prof. André - sala 347)</td></tr><tr><td>15:10-16:00</td><td></td><td>22000602 - Tutoria Acadêmica em Engenharia de Materiais (EaD) EAD1 (Prof. Alice - sala indefinida)</td><td></td><td>23000002 - Elastômeros T1 (Prof. Fabiula - sala 347)</td><td>22000400 - Tópicos Avançados em Materiais I M1 (Prof. André - sala 347)</td></tr><tr><td>16:00-16:50</td><td></td><td>22000602 - Tutoria Acadêmica em Engenharia de Materiais (EaD) EAD1 (Prof. Alice - sala indefinida)</td><td></td><td></td><td>22000400 - Tópicos Avançados em Materiais I M1 (Prof. André - sala 347)</td></tr><tr><td>17:10-18:00</td><td></td><td>22000602 - Tutoria Acadêmica em Engenharia de Materiais (EaD) EAD1 (Prof. Alice - sala indefinida)</td><td></td><td>22000570 - Tópicos Avançados em Materiais II EAD1 (Prof. Sergio - sala indefinida)</td><td></td></tr><tr><td>18:00-18:50</td><td></td><td></td><td></td><td>22000570 - Tópicos Avançados em Materiais II EAD1 (Prof. Sergio - sala indefinida)</td><td></td></tr><tr><td colspan=\"6\" style=\"background-color: #e0e0e0; font-weight: bold;\">Intervalo entre Turnos</td></tr><tr><td>19:00-19:50</td><td></td><td></td><td></td><td>22000570 - Tópicos Avançados em Materiais II EAD1 (Prof. Sergio - sala indefinida)</td><td></td></tr><tr><td>19:50-20:40</td><td></td><td></td><td></td><td>22000570 - Tópicos Avançados em Materiais II EAD1 (Prof. Sergio - sala indefinida)</td><td></td></tr><tr><td>20:40-21:30</td><td></td><td></td><td></td><td></td><td></td></tr><tr><td>21:30-22:20</td><td></td><td></td><td></td><td></td><td></td></tr><tr><td>22:20-23:10</td><td></td><td></td><td></td><td></td><td></td></tr></tbody></table>"
      ],
      "text/plain": [
       "<IPython.core.display.HTML object>"
      ]
     },
     "metadata": {},
     "output_type": "display_data"
    }
   ],
   "source": [
    "import pandas as pd\n",
    "from IPython.display import display, HTML\n",
    "import gspread  # <-- ADICIONADO\n",
    "from google.oauth2.service_account import Credentials  # <-- ADICIONADO\n",
    "\n",
    "# --- INÍCIO DA PARTE DE AUTENTICAÇÃO E LEITURA ---\n",
    "\n",
    "# 1. Definir os escopos (o que queremos acessar)\n",
    "scopes = [\n",
    "    \"https://www.googleapis.com/auth/spreadsheets\",\n",
    "    \"https://www.googleapis.com/auth/drive\"\n",
    "]\n",
    "\n",
    "# 2. Definir o nome do arquivo de credenciais\n",
    "# (Este arquivo será criado pelo GitHub Action a partir do \"Secret\")\n",
    "creds_file = 'gcreds.json' \n",
    "\n",
    "# 3. Autenticar\n",
    "creds = Credentials.from_service_account_file(creds_file, scopes=scopes)\n",
    "client = gspread.authorize(creds)\n",
    "\n",
    "# 4. Abrir a planilha e pegar os dados\n",
    "# !!! IMPORTANTE: Substitua \"Nome-da-Sua-Planilha\" pelo nome exato da sua planilha no Google Sheets\n",
    "# !!! IMPORTANTE: Substitua \"Planilha1\" se o nome da aba (guia) for diferente\n",
    "try:\n",
    "    google_sheet = client.open(\"planilha-2025-2-real\")\n",
    "    aba = google_sheet.worksheet(\"Planilha1\")\n",
    "    dados = aba.get_all_records()  # Isso lê os dados como uma lista de dicionários\n",
    "\n",
    "    # 5. Converter para o DataFrame pandas que o resto do seu script espera\n",
    "    planilha = pd.DataFrame(dados)\n",
    "\n",
    "# --- LINHAS DE DEBUG (ADICIONE ISTO) ---\n",
    "print(f\"DEBUG: Lidas {len(planilha)} linhas da planilha.\")\n",
    "print(planilha.head())\n",
    "# -------------------------------------\n",
    "\n",
    "except gspread.exceptions.SpreadsheetNotFound:\n",
    "    print(\"ERRO: Planilha não encontrada. Verifique o nome da planilha no Google Sheets.\")\n",
    "    raise\n",
    "except gspread.exceptions.WorksheetNotFound:\n",
    "    print(\"ERRO: Aba da planilha não encontrada. Verifique o nome da aba (ex: 'Planilha1').\")\n",
    "    raise\n",
    "except Exception as e:\n",
    "    print(f\"Ocorreu um erro ao acessar o Google Sheets: {e}\")\n",
    "    raise\n",
    "\n",
    "# --- FIM DA PARTE DE AUTENTICAÇÃO E LEITURA ---\n",
    "\n",
    "\n",
    "# O RESTO DO SEU CÓDIGO CONTINUA IGUAL A PARTIR DAQUI\n",
    "# Mapas auxiliares\n",
    "dias_da_semana = {'2': 'segunda-feira', '3': 'terça-feira', '4': 'quarta-feira', '5': 'quinta-feira', '6': 'sexta-feira'}\n",
    "horarios_turno = {\n",
    "    '1': ['08:00-08:50', '08:50-09:40', '10:00-10:50', '10:50-11:40', '11:40-12:30'],\n",
    "    '2': ['13:30-14:20', '14:20-15:10', '15:10-16:00', '16:00-16:50', '17:10-18:00', '18:00-18:50'],\n",
    "    '3': ['19:00-19:50', '19:50-20:40', '20:40-21:30', '21:30-22:20', '22:20-23:10']\n",
    "}\n",
    "\n",
    "# Mapas auxiliares\n",
    "dias_da_semana = {'2': 'segunda-feira', '3': 'terça-feira', '4': 'quarta-feira', '5': 'quinta-feira', '6': 'sexta-feira'}\n",
    "horarios_turno = {\n",
    "    '1': ['08:00-08:50', '08:50-09:40', '10:00-10:50', '10:50-11:40', '11:40-12:30'],\n",
    "    '2': ['13:30-14:20', '14:20-15:10', '15:10-16:00', '16:00-16:50', '17:10-18:00', '18:00-18:50'],\n",
    "    '3': ['19:00-19:50', '19:50-20:40', '20:40-21:30', '21:30-22:20', '22:20-23:10']\n",
    "}\n",
    "\n",
    "# Função para gerar tabela HTML\n",
    "def gerar_tabela_html(tabela_horarios, titulo):\n",
    "    html = f'<h3 style=\"text-align: center; font-size: 1.5em; font-weight: bold;\">{titulo}</h3>'\n",
    "    html += '<table border=\"1\" cellpadding=\"5\" cellspacing=\"0\" style=\"border-collapse: collapse; text-align: center; width: 100%;\">'\n",
    "    html += '<thead><tr><th>Horário</th><th>Segunda-feira</th><th>Terça-feira</th><th>Quarta-feira</th><th>Quinta-feira</th><th>Sexta-feira</th></tr></thead><tbody>'\n",
    "    \n",
    "    for index, row in tabela_horarios.iterrows():\n",
    "        if row['horário'] == '---':\n",
    "            html += '<tr><td colspan=\"6\" style=\"background-color: #e0e0e0; font-weight: bold;\">Intervalo entre Turnos</td></tr>'\n",
    "        else:\n",
    "            html += '<tr>' + ''.join(f'<td>{item}</td>' for item in row) + '</tr>'\n",
    "    \n",
    "    html += '</tbody></table>'\n",
    "    return html\n",
    "\n",
    "# Função para gerar e exibir tabela de horários\n",
    "def gerar_tabela_horarios(df, titulo):\n",
    "    horarios = pd.DataFrame(df, columns=['horário', 'dia', 'disciplina'])\n",
    "    tabela_pivot = horarios.pivot_table(index='horário', columns='dia', values='disciplina', aggfunc=lambda x: '<br>'.join(x)).fillna('')\n",
    "\n",
    "    # Garante todos os dias da semana\n",
    "    for dia in dias_da_semana.values():\n",
    "        if dia not in tabela_pivot.columns:\n",
    "            tabela_pivot[dia] = ''\n",
    "    tabela_pivot = tabela_pivot[['segunda-feira', 'terça-feira', 'quarta-feira', 'quinta-feira', 'sexta-feira']]\n",
    "\n",
    "    # Horários completos com intervalos\n",
    "    turnos_usados = set()\n",
    "    for linha in df:\n",
    "        if linha[0] in horarios_turno['1']: turnos_usados.add('1')\n",
    "        elif linha[0] in horarios_turno['2']: turnos_usados.add('2')\n",
    "        elif linha[0] in horarios_turno['3']: turnos_usados.add('3')\n",
    "\n",
    "    horarios_completos = []\n",
    "    for i, turno in enumerate(sorted(turnos_usados)):\n",
    "        horarios_completos.extend(horarios_turno[turno])\n",
    "        if i < len(turnos_usados) - 1:\n",
    "            horarios_completos.append('---')\n",
    "    \n",
    "    tabela_final = pd.DataFrame({'horário': horarios_completos})\n",
    "    tabela_final = pd.merge(tabela_final, tabela_pivot, on='horário', how='left').fillna('')\n",
    "\n",
    "    display(HTML(gerar_tabela_html(tabela_final, titulo)))\n",
    "\n",
    "# Dicionários para guardar os dados\n",
    "semestres_pares = {}\n",
    "reofertas = []\n",
    "optativas = []\n",
    "\n",
    "# Processamento das linhas da planilha\n",
    "for _, row in planilha.iterrows():\n",
    "    semestre = row['semestre']\n",
    "    if pd.isna(semestre):\n",
    "        continue\n",
    "\n",
    "    codigo = row.get('codigo', '')\n",
    "    nome = row.get('disciplina', '')\n",
    "    turma = row.get('turma', '')\n",
    "    prof = row.get('professor', '')\n",
    "\n",
    "    horarios_disciplina = []\n",
    "    for i in range(1, 7):\n",
    "        horario_col = f'horario {i}'\n",
    "        sala_col = f'sala {i}'\n",
    "        if pd.notna(row.get(horario_col)):\n",
    "            cod_horario = str(int(row[horario_col]))\n",
    "            dia = dias_da_semana.get(cod_horario[0], '')\n",
    "            turno = cod_horario[1]\n",
    "            aula_idx = int(cod_horario[2]) - 1\n",
    "            hora = horarios_turno[turno][aula_idx]\n",
    "\n",
    "            sala = row.get(sala_col, '')\n",
    "            if pd.isna(sala) or str(sala).strip().lower() == 'nan':\n",
    "                sala = 'sala indefinida'\n",
    "            else:\n",
    "                sala = f'sala {sala}'\n",
    "\n",
    "            texto = f'{codigo} - {nome} {turma} (Prof. {prof} - {sala})'\n",
    "            horarios_disciplina.append([hora, dia, texto])\n",
    "\n",
    "    if not horarios_disciplina:\n",
    "        continue\n",
    "\n",
    "    # Classificação por tipo\n",
    "    if semestre % 2 == 0 and semestre < 10:\n",
    "        if semestre not in semestres_pares:\n",
    "            semestres_pares[semestre] = []\n",
    "        semestres_pares[semestre].extend(horarios_disciplina)\n",
    "    elif semestre % 2 == 1 and semestre < 10:\n",
    "        reofertas.extend(horarios_disciplina)\n",
    "    elif semestre == 88:\n",
    "        optativas.extend(horarios_disciplina)\n",
    "\n",
    "# Geração das tabelas\n",
    "for semestre, lista in sorted(semestres_pares.items()):\n",
    "    gerar_tabela_horarios(lista, f'{semestre}º semestre')\n",
    "\n",
    "if reofertas:\n",
    "    gerar_tabela_horarios(reofertas, 'Reofertas')\n",
    "\n",
    "if optativas:\n",
    "    gerar_tabela_horarios(optativas, 'Optativas')\n"
   ]
  },
  {
   "cell_type": "code",
   "execution_count": null,
   "id": "36ce34b0-0e7d-4446-a85e-0db7c5d8324c",
   "metadata": {},
   "outputs": [],
   "source": []
  }
 ],
 "metadata": {
  "kernelspec": {
   "display_name": "Python 3 (ipykernel)",
   "language": "python",
   "name": "python3"
  },
  "language_info": {
   "codemirror_mode": {
    "name": "ipython",
    "version": 3
   },
   "file_extension": ".py",
   "mimetype": "text/x-python",
   "name": "python",
   "nbconvert_exporter": "python",
   "pygments_lexer": "ipython3",
   "version": "3.11.13"
  }
 },
 "nbformat": 4,
 "nbformat_minor": 5
}
